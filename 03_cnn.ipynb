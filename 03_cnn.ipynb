{
 "cells": [
  {
   "cell_type": "markdown",
   "id": "333b01b7",
   "metadata": {},
   "source": [
    "# Exercise 3: convolutional network to classify hand-written digits (MNIST dataset)"
   ]
  },
  {
   "cell_type": "code",
   "execution_count": 1,
   "id": "10850527",
   "metadata": {},
   "outputs": [],
   "source": [
    "import torch \n",
    "import torch.nn as nn\n",
    "import torchvision\n",
    "import torchvision.transforms as transforms\n",
    "import matplotlib.pyplot as plt ## to visualise the data"
   ]
  },
  {
   "cell_type": "code",
   "execution_count": 2,
   "id": "11b8a506",
   "metadata": {},
   "outputs": [
    {
     "name": "stdout",
     "output_type": "stream",
     "text": [
      "Downloading http://yann.lecun.com/exdb/mnist/train-images-idx3-ubyte.gz\n",
      "Downloading http://yann.lecun.com/exdb/mnist/train-images-idx3-ubyte.gz to ./data/MNIST/raw/train-images-idx3-ubyte.gz\n"
     ]
    },
    {
     "data": {
      "application/vnd.jupyter.widget-view+json": {
       "model_id": "22bbbe2969fc409cb2e8c3a09c63785b",
       "version_major": 2,
       "version_minor": 0
      },
      "text/plain": [
       "  0%|          | 0/9912422 [00:00<?, ?it/s]"
      ]
     },
     "metadata": {},
     "output_type": "display_data"
    },
    {
     "name": "stdout",
     "output_type": "stream",
     "text": [
      "Extracting ./data/MNIST/raw/train-images-idx3-ubyte.gz to ./data/MNIST/raw\n",
      "\n",
      "Downloading http://yann.lecun.com/exdb/mnist/train-labels-idx1-ubyte.gz\n",
      "Downloading http://yann.lecun.com/exdb/mnist/train-labels-idx1-ubyte.gz to ./data/MNIST/raw/train-labels-idx1-ubyte.gz\n"
     ]
    },
    {
     "data": {
      "application/vnd.jupyter.widget-view+json": {
       "model_id": "0bc6bc7099764738aec5eb5e7e855ac7",
       "version_major": 2,
       "version_minor": 0
      },
      "text/plain": [
       "  0%|          | 0/28881 [00:00<?, ?it/s]"
      ]
     },
     "metadata": {},
     "output_type": "display_data"
    },
    {
     "name": "stdout",
     "output_type": "stream",
     "text": [
      "Extracting ./data/MNIST/raw/train-labels-idx1-ubyte.gz to ./data/MNIST/raw\n",
      "\n",
      "Downloading http://yann.lecun.com/exdb/mnist/t10k-images-idx3-ubyte.gz\n",
      "Downloading http://yann.lecun.com/exdb/mnist/t10k-images-idx3-ubyte.gz to ./data/MNIST/raw/t10k-images-idx3-ubyte.gz\n"
     ]
    },
    {
     "data": {
      "application/vnd.jupyter.widget-view+json": {
       "model_id": "384bc65d0d114d4c8e745cea866002ad",
       "version_major": 2,
       "version_minor": 0
      },
      "text/plain": [
       "  0%|          | 0/1648877 [00:00<?, ?it/s]"
      ]
     },
     "metadata": {},
     "output_type": "display_data"
    },
    {
     "name": "stdout",
     "output_type": "stream",
     "text": [
      "Extracting ./data/MNIST/raw/t10k-images-idx3-ubyte.gz to ./data/MNIST/raw\n",
      "\n",
      "Downloading http://yann.lecun.com/exdb/mnist/t10k-labels-idx1-ubyte.gz\n",
      "Downloading http://yann.lecun.com/exdb/mnist/t10k-labels-idx1-ubyte.gz to ./data/MNIST/raw/t10k-labels-idx1-ubyte.gz\n"
     ]
    },
    {
     "data": {
      "application/vnd.jupyter.widget-view+json": {
       "model_id": "a1fc7147589d49d6a683d71f4f7fefe0",
       "version_major": 2,
       "version_minor": 0
      },
      "text/plain": [
       "  0%|          | 0/4542 [00:00<?, ?it/s]"
      ]
     },
     "metadata": {},
     "output_type": "display_data"
    },
    {
     "name": "stdout",
     "output_type": "stream",
     "text": [
      "Extracting ./data/MNIST/raw/t10k-labels-idx1-ubyte.gz to ./data/MNIST/raw\n",
      "\n"
     ]
    },
    {
     "data": {
      "text/plain": [
       "Text(0.5, 1.0, '5')"
      ]
     },
     "execution_count": 2,
     "metadata": {},
     "output_type": "execute_result"
    },
    {
     "data": {
      "image/png": "[encoded data removed]",
      "text/plain": [
       "<Figure size 432x288 with 1 Axes>"
      ]
     },
     "metadata": {
      "needs_background": "light"
     },
     "output_type": "display_data"
    }
   ],
   "source": [
    "# Hyper parameters\n",
    "num_epochs = 5\n",
    "num_classes = 10\n",
    "batch_size = 100\n",
    "learning_rate = 0.001\n",
    "\n",
    "# MNIST dataset\n",
    "train_dataset = torchvision.datasets.MNIST(root='./data/',\n",
    "                                           train=True, \n",
    "                                           transform=transforms.ToTensor(),\n",
    "                                           download=True)\n",
    "\n",
    "## plot the first picture. Change the index to plot others.\n",
    "plt.imshow(train_dataset.data[0].numpy(), cmap='gray')\n",
    "plt.title('%i' % train_dataset.targets[0])"
   ]
  },
  {
   "cell_type": "code",
   "execution_count": 3,
   "id": "875da110",
   "metadata": {},
   "outputs": [],
   "source": [
    "test_dataset = torchvision.datasets.MNIST(root='./data/',\n",
    "                                          train=False, \n",
    "                                          transform=transforms.ToTensor())\n",
    "\n",
    "# Data loader\n",
    "train_loader = torch.utils.data.DataLoader(dataset=train_dataset,\n",
    "                                           batch_size=batch_size, \n",
    "                                           shuffle=True)\n",
    "\n",
    "test_loader = torch.utils.data.DataLoader(dataset=test_dataset,\n",
    "                                          batch_size=batch_size, \n",
    "                                          shuffle=False)"
   ]
  },
  {
   "cell_type": "code",
   "execution_count": 4,
   "id": "87cf824d",
   "metadata": {},
   "outputs": [],
   "source": [
    "# Convolutional neural network (two convolutional layers)\n",
    "class ConvNet(nn.Module):\n",
    "    def __init__(self, num_classes=10):\n",
    "        ## input is 28*28*1\n",
    "        super(ConvNet, self).__init__()\n",
    "        self.layer1 = nn.Sequential(\n",
    "            nn.Conv2d(1, 16, kernel_size=5, stride=1, padding=2),\n",
    "            nn.BatchNorm2d(16),\n",
    "            nn.ReLU(),\n",
    "            nn.MaxPool2d(kernel_size=2, stride=2))\n",
    "        ### add another layer, it takes the 16 channels of layer1 \n",
    "        ### as input, and returns 32 channels as output. Play with\n",
    "        ### batch normalization, try ReLU's, and perform pooling.\n",
    "        self.layer2 = None\n",
    "        ### the fully connected layer takes the output of layer2 as\n",
    "        ### input. Adapt the numbers.\n",
    "        self.fc = nn.Linear(14*14*16, num_classes)\n",
    "        \n",
    "    def forward(self, x):\n",
    "        out = self.layer1(x)\n",
    "        ## dont forget to add second layer here\n",
    "        # sometimes tensors have to be recast from one \"shape\" to \n",
    "        # another. Have a look at the \".shape\", \".reshape\", and \".view\"\n",
    "        # methods of tensors.\n",
    "        out = out.reshape(out.size(0), -1)\n",
    "        out = self.fc(out)\n",
    "        return out\n"
   ]
  },
  {
   "cell_type": "code",
   "execution_count": 5,
   "id": "9d35c621",
   "metadata": {},
   "outputs": [],
   "source": [
    "model = ConvNet(num_classes)"
   ]
  },
  {
   "cell_type": "code",
   "execution_count": 6,
   "id": "dbafe5b4",
   "metadata": {},
   "outputs": [],
   "source": [
    "# Loss and optimizer\n",
    "criterion = nn.CrossEntropyLoss()\n",
    "optimizer = torch.optim.Adam(model.parameters(), lr=learning_rate)"
   ]
  },
  {
   "cell_type": "code",
   "execution_count": null,
   "id": "8c893f69",
   "metadata": {},
   "outputs": [
    {
     "name": "stdout",
     "output_type": "stream",
     "text": [
      "Epoch [1/5], Step [100/600], Loss: 0.2711\n",
      "Epoch [1/5], Step [200/600], Loss: 0.2010\n",
      "Epoch [1/5], Step [300/600], Loss: 0.2018\n",
      "Epoch [1/5], Step [400/600], Loss: 0.0626\n",
      "Epoch [1/5], Step [500/600], Loss: 0.1060\n",
      "Epoch [1/5], Step [600/600], Loss: 0.0625\n",
      "Epoch [2/5], Step [100/600], Loss: 0.0907\n",
      "Epoch [2/5], Step [200/600], Loss: 0.0263\n",
      "Epoch [2/5], Step [300/600], Loss: 0.0167\n",
      "Epoch [2/5], Step [400/600], Loss: 0.0401\n",
      "Epoch [2/5], Step [500/600], Loss: 0.1524\n",
      "Epoch [2/5], Step [600/600], Loss: 0.0602\n",
      "Epoch [3/5], Step [100/600], Loss: 0.1421\n",
      "Epoch [3/5], Step [200/600], Loss: 0.1305\n",
      "Epoch [3/5], Step [300/600], Loss: 0.0456\n",
      "Epoch [3/5], Step [400/600], Loss: 0.0468\n",
      "Epoch [3/5], Step [500/600], Loss: 0.0120\n",
      "Epoch [3/5], Step [600/600], Loss: 0.1175\n",
      "Epoch [4/5], Step [100/600], Loss: 0.0277\n",
      "Epoch [4/5], Step [200/600], Loss: 0.0345\n",
      "Epoch [4/5], Step [300/600], Loss: 0.0321\n",
      "Epoch [4/5], Step [400/600], Loss: 0.0324\n",
      "Epoch [4/5], Step [500/600], Loss: 0.0541\n",
      "Epoch [4/5], Step [600/600], Loss: 0.0081\n",
      "Epoch [5/5], Step [100/600], Loss: 0.0170\n",
      "Epoch [5/5], Step [200/600], Loss: 0.0377\n",
      "Epoch [5/5], Step [300/600], Loss: 0.0216\n",
      "Epoch [5/5], Step [400/600], Loss: 0.0203\n",
      "Epoch [5/5], Step [500/600], Loss: 0.0190\n"
     ]
    }
   ],
   "source": [
    "# Train the model\n",
    "total_step = len(train_loader)\n",
    "for epoch in range(num_epochs):\n",
    "    for i, (images, labels) in enumerate(train_loader):\n",
    "        images = images\n",
    "        labels = labels\n",
    "        \n",
    "        # Forward pass\n",
    "        outputs = model(images)\n",
    "        loss = criterion(outputs, labels)\n",
    "        \n",
    "        # Backward and optimize\n",
    "        optimizer.zero_grad()\n",
    "        loss.backward()\n",
    "        optimizer.step()\n",
    "        \n",
    "        if (i+1) % 100 == 0:\n",
    "            print ('Epoch [{}/{}], Step [{}/{}], Loss: {:.4f}' \n",
    "                   .format(epoch+1, num_epochs, i+1, total_step, loss.item()))"
   ]
  },
  {
   "cell_type": "code",
   "execution_count": null,
   "id": "914f8112",
   "metadata": {},
   "outputs": [],
   "source": [
    "# Test the model\n",
    "model.eval()  # eval mode (batchnorm uses moving mean/variance instead of mini-batch mean/variance)\n",
    "with torch.no_grad():\n",
    "    correct = 0\n",
    "    total = 0\n",
    "    for images, labels in test_loader:\n",
    "        images = images\n",
    "        labels = labels\n",
    "        outputs = model(images)\n",
    "        _, predicted = torch.max(outputs.data, 1)\n",
    "        total += labels.size(0)\n",
    "        correct += (predicted == labels).sum().item()\n",
    "\n",
    "    print('Test Accuracy of the model on the 10000 test images: {} %'.format(100 * correct / total))\n",
    "\n",
    "# Save the model checkpoint\n",
    "# torch.save(model.state_dict(), '03_cnn.ckpt')"
   ]
  },
  {
   "cell_type": "markdown",
   "id": "1767c981",
   "metadata": {},
   "source": [
    "# optional extra task: compute and plot \"confusion\" matrix (how often is digit i classified as j)"
   ]
  },
  {
   "cell_type": "code",
   "execution_count": null,
   "id": "b4239e4f",
   "metadata": {},
   "outputs": [],
   "source": [
    "#from sklearn.metrics import confusion_matrix\n",
    "#import seaborn as sn\n",
    "#import pandas as pd"
   ]
  },
  {
   "cell_type": "code",
   "execution_count": null,
   "id": "85294c68",
   "metadata": {},
   "outputs": [],
   "source": [
    "# Build confusion matrix\n",
    "#cf_matrix = confusion_matrix(y_true, y_pred)\n",
    "# df_cm = pd.DataFrame(cf_matrix/np.sum(cf_matrix) *10, index = [i for i in classes],\n",
    "#                     columns = [i for i in classes])\n",
    "#plt.figure(figsize = (12,7))\n",
    "#sn.heatmap(df_cm, annot=True)\n",
    "#plt.savefig('output.png')"
   ]
  }
 ],
 "metadata": {
  "kernelspec": {
   "display_name": "Python 3 (ipykernel)",
   "language": "python",
   "name": "python3"
  },
  "language_info": {
   "codemirror_mode": {
    "name": "ipython",
    "version": 3
   },
   "file_extension": ".py",
   "mimetype": "text/x-python",
   "name": "python",
   "nbconvert_exporter": "python",
   "pygments_lexer": "ipython3",
   "version": "3.10.4"
  }
 },
 "nbformat": 4,
 "nbformat_minor": 5
}
