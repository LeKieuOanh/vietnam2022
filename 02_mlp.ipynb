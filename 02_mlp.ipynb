{
 "cells": [
  {
   "cell_type": "markdown",
   "id": "27b71f7b",
   "metadata": {},
   "source": [
    "# Exercise 2: Multi-layer perceptron in two dimensions."
   ]
  },
  {
   "cell_type": "code",
   "execution_count": null,
   "id": "a8d2f744",
   "metadata": {},
   "outputs": [],
   "source": [
    "import numpy as np\n",
    "import torch\n",
    "from torch.autograd import Variable"
   ]
  },
  {
   "cell_type": "code",
   "execution_count": null,
   "id": "daef632d",
   "metadata": {},
   "outputs": [],
   "source": [
    "# fetch the data from github (might not be needed)\n",
    "!test -e 02_mlp.p || wget https://github.com/WolfgangWaltenberger/vietnam2022/raw/main/02_mlp.p"
   ]
  },
  {
   "cell_type": "code",
   "execution_count": null,
   "id": "91546536",
   "metadata": {},
   "outputs": [],
   "source": [
    "x_data, y_data = torch.load ( \"02_mlp.p\" )"
   ]
  },
  {
   "cell_type": "code",
   "execution_count": null,
   "id": "c358472d",
   "metadata": {},
   "outputs": [],
   "source": [
    "class Model(torch.nn.Module):\n",
    "    def __init__(self):\n",
    "        super(Model, self).__init__()\n",
    "        ...\n",
    "        \n",
    "    def forward(self, x):\n",
    "        ## start with a linear layer, e.g. 2x10,\n",
    "        ## apply an activation function\n",
    "        ## then another linear layer with a single\n",
    "        ## output node, then e.g. a sigmoid to \"normalize\" the output\n",
    "        ...\n",
    "        return y_pred"
   ]
  },
  {
   "cell_type": "code",
   "execution_count": null,
   "id": "bb4f1982",
   "metadata": {},
   "outputs": [],
   "source": [
    "# Our model    \n",
    "model = Model()"
   ]
  },
  {
   "cell_type": "code",
   "execution_count": null,
   "id": "b898a2ca",
   "metadata": {},
   "outputs": [],
   "source": [
    "## again, define your loss function (e.g. BCELoss) and your learning method (Adam)\n",
    "criterion = ...\n",
    "adam = ...\n"
   ]
  },
  {
   "cell_type": "code",
   "execution_count": null,
   "id": "3b5e2e17",
   "metadata": {},
   "outputs": [],
   "source": [
    "# Training loop\n",
    "for epoch in range(...):\n",
    "    # Forward pass: Compute predicted y by passing x to the model\n",
    "    if epoch % 100 == 0:\n",
    "        print ( \"epoch %d\" % epoch )\n",
    "    y_pred = model(x_data)\n",
    "    \n",
    "    # Compute and print loss\n",
    "    loss = criterion(y_pred, y_data)\n",
    "    \n",
    "    # Zero gradients, perform a backward pass, and update the weights.\n",
    "    adam.zero_grad()\n",
    "    loss.backward()\n",
    "    adam.step()\n",
    "\n",
    "\n",
    "## check how correct you are (on the training data)\n",
    "correct, total = 0, len(x_data)\n",
    "for data, label in zip ( x_data, y_data ):\n",
    "    output = model(data)\n",
    "    predicted = int(output.data[0] > .5)\n",
    "    label = int ( label )\n",
    "    correct += (predicted == label)\n",
    "\n",
    "print('Accuracy of the model on the %d test points: %.2f %%' % ( total, 100. * correct / total))"
   ]
  }
 ],
 "metadata": {
  "kernelspec": {
   "display_name": "Python 3 (ipykernel)",
   "language": "python",
   "name": "python3"
  },
  "language_info": {
   "codemirror_mode": {
    "name": "ipython",
    "version": 3
   },
   "file_extension": ".py",
   "mimetype": "text/x-python",
   "name": "python",
   "nbconvert_exporter": "python",
   "pygments_lexer": "ipython3",
   "version": "3.10.4"
  }
 },
 "nbformat": 4,
 "nbformat_minor": 5
}
