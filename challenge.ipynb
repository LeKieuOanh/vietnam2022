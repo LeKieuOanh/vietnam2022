{
 "cells": [
  {
   "cell_type": "code",
   "execution_count": 1,
   "metadata": {},
   "outputs": [],
   "source": [
    "# School challenge!! Try to optimize performance of classifier of CRESST data"
   ]
  },
  {
   "cell_type": "code",
   "execution_count": 2,
   "metadata": {},
   "outputs": [],
   "source": [
    "import numpy as np\n",
    "import torch\n",
    "import torch.nn.functional as F"
   ]
  },
  {
   "cell_type": "code",
   "execution_count": 3,
   "metadata": {},
   "outputs": [],
   "source": [
    "# fetch the data from github (might not be needed)\n",
    "!test -e training.p || wget https://github.com/WolfgangWaltenberger/vietnam2022/raw/main/training.p"
   ]
  },
  {
   "cell_type": "code",
   "execution_count": 4,
   "metadata": {},
   "outputs": [],
   "source": [
    "# fetch the data from github (might not be needed)\n",
    "!test -e validation.p || wget https://github.com/WolfgangWaltenberger/vietnam2022/raw/main/validation.p"
   ]
  },
  {
   "cell_type": "code",
   "execution_count": 5,
   "metadata": {},
   "outputs": [],
   "source": [
    "## load the 2d data (x_data), with the labels (y_data).\n",
    "## the labels are {0,1}.\n",
    "x_data, y_data = torch.load ( \"training.p\" )\n",
    "x_test, y_test = torch.load ( \"validation.p\" )\n",
    "\n",
    "recordLength = 16384"
   ]
  },
  {
   "cell_type": "code",
   "execution_count": 6,
   "metadata": {},
   "outputs": [],
   "source": [
    "## now define your neural network. here is a simple one to start with!\n",
    "class Model(torch.nn.Module):\n",
    "    def __init__(self):\n",
    "        super(Model, self).__init__()\n",
    "        self.linear1 = torch.nn.Linear(recordLength, 100) # 2 in and 1 out\n",
    "        self.relu = torch.nn.ReLU()\n",
    "        self.linear2 = torch.nn.Linear(100, 1)\n",
    "        \n",
    "    def forward(self, x):\n",
    "        out1 = self.linear1(x)\n",
    "        act1 = self.relu ( out1 )\n",
    "        out2 = self.linear2 ( act1 )\n",
    "        y_pred = torch.sigmoid( out2 )\n",
    "        return y_pred"
   ]
  },
  {
   "cell_type": "code",
   "execution_count": 7,
   "metadata": {},
   "outputs": [],
   "source": [
    "# Instantiate the model\n",
    "model = Model()"
   ]
  },
  {
   "cell_type": "code",
   "execution_count": 8,
   "metadata": {},
   "outputs": [],
   "source": [
    "## define your loss function \n",
    "criterion = torch.nn.BCELoss(reduction='mean')"
   ]
  },
  {
   "cell_type": "code",
   "execution_count": 9,
   "metadata": {},
   "outputs": [],
   "source": [
    "## choose an optimizer (torch.optim.Adam, torch.optim.SGD, ... )\n",
    "## it takes model.parameters() as input. Choose a learning rate.\n",
    "optimizer = torch.optim.Adam(model.parameters(), lr=0.001)"
   ]
  },
  {
   "cell_type": "code",
   "execution_count": 10,
   "metadata": {},
   "outputs": [
    {
     "name": "stdout",
     "output_type": "stream",
     "text": [
      "training: epoch 0 loss=0.689\n",
      "training: epoch 10 loss=0.412\n",
      "training: epoch 20 loss=0.341\n",
      "training: epoch 30 loss=0.284\n",
      "training: epoch 40 loss=0.253\n",
      "training: epoch 50 loss=0.235\n",
      "training: epoch 60 loss=0.218\n",
      "training: epoch 70 loss=0.199\n",
      "training: epoch 80 loss=0.178\n",
      "training: epoch 90 loss=0.156\n"
     ]
    }
   ],
   "source": [
    "# Training loop\n",
    "for epoch in range(100):\n",
    "    # Forward pass: Compute predicted y by passing x_data to the model\n",
    "    y_pred = model(x_data)\n",
    "    # y_data = y_data.reshape(10000,1)\n",
    "    # Compute and print loss\n",
    "    loss = criterion(y_pred, y_data)\n",
    "    if epoch % 10 == 0:\n",
    "        print ( f\"training: epoch {epoch} loss={loss.data.item():.3f}\" )\n",
    "    \n",
    "    # Reset gradient, perform a backward pass, and update the weights.\n",
    "    optimizer.zero_grad()\n",
    "    loss.backward()\n",
    "    optimizer.step()"
   ]
  },
  {
   "cell_type": "code",
   "execution_count": 11,
   "metadata": {},
   "outputs": [
    {
     "name": "stdout",
     "output_type": "stream",
     "text": [
      "205/400 of the data were carriers.\n",
      "Accuracy of the model on the 400 test images: 94.50 %\n"
     ]
    }
   ],
   "source": [
    "# Check the performance of the model with the test data set\n",
    "correct, carrier, total = 0, 0, len(x_test)\n",
    "ctr = 0\n",
    "for pulse, label in zip ( x_test, y_test ):\n",
    "    ctr += 1\n",
    "    output = model(pulse)\n",
    "    predicted = int(output.data[0] > .5)\n",
    "    label = int ( label )\n",
    "    correct += (predicted == label)\n",
    "    carrier += label\n",
    "\n",
    "print ( '%d/%d of the data were carriers.' % ( carrier, total ) )\n",
    "    \n",
    "print('Accuracy of the model on the %d test images: %.2f %%' % ( total, 100. * correct / total))"
   ]
  },
  {
   "cell_type": "code",
   "execution_count": 12,
   "metadata": {},
   "outputs": [],
   "source": [
    "torch.save(model.state_dict(), 'my_model.ckpt' )"
   ]
  }
 ],
 "metadata": {
  "kernelspec": {
   "display_name": "Python 3 (ipykernel)",
   "language": "python",
   "name": "python3"
  },
  "language_info": {
   "codemirror_mode": {
    "name": "ipython",
    "version": 3
   },
   "file_extension": ".py",
   "mimetype": "text/x-python",
   "name": "python",
   "nbconvert_exporter": "python",
   "pygments_lexer": "ipython3",
   "version": "3.10.4"
  }
 },
 "nbformat": 4,
 "nbformat_minor": 4
}
